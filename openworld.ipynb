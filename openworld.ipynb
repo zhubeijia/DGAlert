{
 "cells": [
  {
   "cell_type": "code",
   "execution_count": null,
   "metadata": {},
   "outputs": [],
   "source": [
    "import torch\n",
    "from torch import nn\n",
    "import torch.nn.functional as F\n",
    "from sklearn.metrics import accuracy_score, precision_score, recall_score, f1_score\n",
    "\n",
    "encoder = Encoder(input_dim=10, hidden_dims=[10, 16, 32, 16], feat_dim=4)\n",
    "proj_head = Proj(input_dim=16, hidden_dims=[10, 16], feat_dim=4)\n",
    "classification_model = ClassificationHead(input_dim=16, num_classes=6)\n",
    "\n",
    "# load model\n",
    "checkpoint = torch.load('') # model path\n",
    "encoder.load_state_dict(checkpoint['encoder'])\n",
    "proj_head.load_state_dict(checkpoint['projector'])\n",
    "classification_model.load_state_dict(checkpoint['cls'])\n",
    "\n",
    "encoder.to(device)\n",
    "proj_head.to(device)\n",
    "classification_model.to(device)"
   ]
  },
  {
   "cell_type": "code",
   "execution_count": null,
   "metadata": {},
   "outputs": [],
   "source": [
    "def generate_normalized_embeddings(samples):\n",
    "    if isinstance(samples, np.ndarray):\n",
    "        samples = torch.tensor(samples, dtype=torch.float32)\n",
    "        \n",
    "    embeddings = encoder(samples)\n",
    "\n",
    "    # normalize embeddings\n",
    "    normalizer = lambda x: x / (torch.norm(x, p=2, dim=-1, keepdim=True) + 1e-10)\n",
    "    normalized_embeddings = normalizer(embeddings)\n",
    "\n",
    "    return normalized_embeddings.detach().cpu().numpy()"
   ]
  },
  {
   "cell_type": "code",
   "execution_count": null,
   "metadata": {},
   "outputs": [],
   "source": [
    "from sklearn.neighbors import NearestNeighbors\n",
    "import numpy as np\n",
    "\n",
    "def knn_score(train_set, test_set, k):\n",
    "    nbrs = NearestNeighbors(n_neighbors=k, algorithm='auto').fit(train_set)\n",
    "    distances, indices = nbrs.kneighbors(test_set)\n",
    "    scores = distances[:, -1]\n",
    "\n",
    "    return scores.tolist()\n"
   ]
  }
 ],
 "metadata": {
  "language_info": {
   "name": "python"
  }
 },
 "nbformat": 4,
 "nbformat_minor": 2
}
